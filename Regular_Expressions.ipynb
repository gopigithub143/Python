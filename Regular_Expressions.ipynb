{
 "cells": [
  {
   "cell_type": "code",
   "execution_count": 1,
   "metadata": {},
   "outputs": [],
   "source": [
    "#If we want to represent a group of strings according to particular patteren we should go for REs.\n",
    "# Main important application areas of regular Expression\n",
    "#1.validation.....\n",
    "#2.pattern matching application ctrl f,grep\n",
    "#3.Translators like compiler,interpreters,assemblers....\n",
    "\n",
    "#lexical analysis Scanning or Tokenization ===>RE\n",
    "#Syntex analysis ===>parsing\n",
    "#semantic analysis\n",
    "#ICG\n",
    "#CO\n",
    "#TCG\n",
    "\n",
    "#4.To develop digitel circutits FA with output===>Moore and melay\n",
    "#5Communiction protocols  TCP/IP etc\n",
    "\n",
    "# re module:\n",
    "#1.compile() function:\n",
    "#'python': Regex object\n",
    "#pattern=re.compile('python')\n"
   ]
  },
  {
   "cell_type": "code",
   "execution_count": 6,
   "metadata": {},
   "outputs": [
    {
     "name": "stdout",
     "output_type": "stream",
     "text": [
      "<class 're.Pattern'>\n"
     ]
    }
   ],
   "source": [
    " import re\n",
    "pattern=re.compile('python')\n",
    "print(type(pattern)) # Pattern object"
   ]
  },
  {
   "cell_type": "code",
   "execution_count": 7,
   "metadata": {},
   "outputs": [],
   "source": [
    "#finditer():how amny matchs are avlible\n",
    "#syntex: matcher=pattern.finditer('Python is easy')\n",
    "#1.start(): start index of the match\n",
    "#2.end(): end+1 index of the match\n",
    "#3.group():returns matched string"
   ]
  },
  {
   "cell_type": "code",
   "execution_count": 8,
   "metadata": {},
   "outputs": [],
   "source": [
    "#compile()\n",
    "#finditer()\n",
    "#start()\n",
    "#end()\n",
    "#group()\n",
    "\n",
    "#abaababa  ======>any target\n",
    "\n",
    "#ab\n",
    "#total occrrences: 3\n",
    "#frist time:0\n",
    "#second time: 3\n",
    "#third time: 5\n"
   ]
  },
  {
   "cell_type": "code",
   "execution_count": 11,
   "metadata": {},
   "outputs": [
    {
     "name": "stdout",
     "output_type": "stream",
     "text": [
      "matcher is avalible at start index: 0\n",
      "matcher is avalible at start index: 3\n",
      "matcher is avalible at start index: 5\n",
      "The number of occurrences 3\n"
     ]
    }
   ],
   "source": [
    "import re\n",
    "count=0\n",
    "pattern=re.compile('ab')\n",
    "matcher=pattern.finditer('abaababa')\n",
    "for match in matcher:\n",
    "    count+=1\n",
    "    print('matcher is avalible at start index:',match.start())\n",
    "print('The number of occurrences',count)"
   ]
  },
  {
   "cell_type": "code",
   "execution_count": 12,
   "metadata": {},
   "outputs": [
    {
     "name": "stdout",
     "output_type": "stream",
     "text": [
      "start:0,end:2,group:ab\n",
      "The number of occurrences 4\n",
      "start:3,end:5,group:ab\n",
      "The number of occurrences 5\n",
      "start:5,end:7,group:ab\n",
      "The number of occurrences 6\n"
     ]
    }
   ],
   "source": [
    "#start()\n",
    "#end()\n",
    "#group()\n",
    "import re\n",
    "pattern=re.compile('ab')\n",
    "matcher=pattern.finditer('abaababa')\n",
    "for m in matcher:\n",
    "    count=count+1\n",
    "    print('start:{},end:{},group:{}'.format(m.start(),m.end(),m.group()))\n",
    "    print('The number of occurrences',count)"
   ]
  },
  {
   "cell_type": "code",
   "execution_count": 15,
   "metadata": {},
   "outputs": [
    {
     "name": "stdout",
     "output_type": "stream",
     "text": [
      "<class 'callable_iterator'>\n",
      "start:0,end:2,group:ab\n",
      "The number of occurrences 10\n",
      "start:3,end:5,group:ab\n",
      "The number of occurrences 11\n",
      "start:5,end:7,group:ab\n",
      "The number of occurrences 12\n"
     ]
    }
   ],
   "source": [
    "import re\n",
    "\n",
    "matcher=re.finditer('ab','abaababa')\n",
    "print(type(matcher))\n",
    "for m in matcher:\n",
    "    count=count+1\n",
    "    print('start:{},end:{},group:{}'.format(m.start(),m.end(),m.group()))\n",
    "    print('The number of occurrences',count)"
   ]
  },
  {
   "cell_type": "code",
   "execution_count": 16,
   "metadata": {},
   "outputs": [],
   "source": [
    "#Character classes:\n",
    "# [abc]===> either a or b or c\n",
    "#[^abc]====> exacept a and b and c\n",
    "#[a-z]===> Any lower case alphabet symbols\n",
    "#[A-Z]====>Any upper case alphabet symbols\n",
    "#[a-z A-Z]====>Any alphabet symbol\n",
    "#[0-9]\n",
    "#[a-zA-Z0-9]\n",
    "#[^a-zA-Z0-9]\n"
   ]
  },
  {
   "cell_type": "code",
   "execution_count": 18,
   "metadata": {},
   "outputs": [
    {
     "name": "stdout",
     "output_type": "stream",
     "text": [
      "1 ..... 7\n",
      "2 ..... @\n",
      "3 ..... k\n",
      "4 ..... 9\n",
      "5 ..... z\n"
     ]
    }
   ],
   "source": [
    "import re\n",
    "matcher=re.finditer('[^abc]','a7@k9z')\n",
    "for m in matcher:\n",
    "    print(m.start(),'.....',m.group())"
   ]
  },
  {
   "cell_type": "code",
   "execution_count": 21,
   "metadata": {},
   "outputs": [
    {
     "name": "stdout",
     "output_type": "stream",
     "text": [
      "0 ..... a\n",
      "1 ..... 7\n"
     ]
    }
   ],
   "source": [
    "import re\n",
    "matcher=re.finditer('[a7]','a7@k9z')\n",
    "for m in matcher:\n",
    "    print(m.start(),'.....',m.group())"
   ]
  },
  {
   "cell_type": "code",
   "execution_count": 23,
   "metadata": {},
   "outputs": [
    {
     "name": "stdout",
     "output_type": "stream",
     "text": [
      "0 ..... a\n",
      "3 ..... k\n",
      "5 ..... z\n"
     ]
    }
   ],
   "source": [
    "import re\n",
    "matcher=re.finditer('[a-z]','a7@k9z')\n",
    "for m in matcher:\n",
    "    print(m.start(),'.....',m.group())"
   ]
  },
  {
   "cell_type": "code",
   "execution_count": 24,
   "metadata": {},
   "outputs": [
    {
     "name": "stdout",
     "output_type": "stream",
     "text": [
      "1 ..... 7\n",
      "4 ..... 9\n"
     ]
    }
   ],
   "source": [
    "import re\n",
    "matcher=re.finditer('[0-9]','a7@k9z')\n",
    "for m in matcher:\n",
    "    print(m.start(),'.....',m.group())"
   ]
  },
  {
   "cell_type": "code",
   "execution_count": 25,
   "metadata": {},
   "outputs": [
    {
     "name": "stdout",
     "output_type": "stream",
     "text": [
      "0 ..... a\n",
      "1 ..... 7\n",
      "3 ..... k\n",
      "4 ..... 9\n",
      "5 ..... z\n"
     ]
    }
   ],
   "source": [
    "import re\n",
    "matcher=re.finditer('[a-zA-Z0-9]','a7@k9z')\n",
    "for m in matcher:\n",
    "    print(m.start(),'.....',m.group())"
   ]
  },
  {
   "cell_type": "code",
   "execution_count": 26,
   "metadata": {},
   "outputs": [],
   "source": [
    "# group() method returns the mtached item\n",
    "\n",
    "\n",
    "#Predifined Character classes:\n",
    "#\\s---->space character \n",
    "#\\S---->Except space character \n",
    "#\\d---->any digit\n",
    "#\\D---->except digit \n",
    "#\\w----->any word character (alpha numaric character)[a-zA-Z0-9]\n",
    "#\\W----->any character except word (special characters)[^a-zA-Z0-9]\n",
    "#. ----->Every character "
   ]
  },
  {
   "cell_type": "code",
   "execution_count": 30,
   "metadata": {},
   "outputs": [
    {
     "name": "stdout",
     "output_type": "stream",
     "text": [
      "1 ......  \n"
     ]
    }
   ],
   "source": [
    "import re \n",
    "matcher=re.finditer('\\s','a 7b@k9z')\n",
    "for m in matcher:\n",
    "    print(m.start(),'......',m.group())"
   ]
  },
  {
   "cell_type": "code",
   "execution_count": 31,
   "metadata": {},
   "outputs": [
    {
     "name": "stdout",
     "output_type": "stream",
     "text": [
      "0 ...... a\n",
      "1 ......  \n",
      "2 ...... 7\n",
      "3 ...... b\n",
      "4 ...... @\n",
      "5 ...... k\n",
      "6 ...... 9\n",
      "7 ...... z\n"
     ]
    }
   ],
   "source": [
    "import re \n",
    "matcher=re.finditer('.','a 7b@k9z')\n",
    "for m in matcher:\n",
    "    print(m.start(),'......',m.group())"
   ]
  },
  {
   "cell_type": "code",
   "execution_count": 32,
   "metadata": {},
   "outputs": [
    {
     "name": "stdout",
     "output_type": "stream",
     "text": [
      "1 ...... 7\n",
      "5 ...... 9\n"
     ]
    }
   ],
   "source": [
    "import re \n",
    "matcher=re.finditer('\\d','a7b@k9z')\n",
    "for m in matcher:\n",
    "    print(m.start(),'......',m.group())"
   ]
  },
  {
   "cell_type": "code",
   "execution_count": 33,
   "metadata": {},
   "outputs": [
    {
     "name": "stdout",
     "output_type": "stream",
     "text": [
      "0 ...... a\n",
      "1 ......  \n",
      "3 ...... b\n",
      "4 ...... @\n",
      "5 ...... k\n",
      "7 ...... z\n"
     ]
    }
   ],
   "source": [
    "import re \n",
    "matcher=re.finditer('\\D','a7b@k9z')\n",
    "for m in matcher:\n",
    "    print(m.start(),'......',m.group())"
   ]
  },
  {
   "cell_type": "code",
   "execution_count": 34,
   "metadata": {},
   "outputs": [
    {
     "name": "stdout",
     "output_type": "stream",
     "text": [
      "0 ...... a\n",
      "1 ...... 7\n",
      "2 ...... b\n",
      "4 ...... k\n",
      "5 ...... 9\n",
      "6 ...... z\n"
     ]
    }
   ],
   "source": [
    "import re \n",
    "matcher=re.finditer('\\w','a7b@k9z')\n",
    "for m in matcher:\n",
    "    print(m.start(),'......',m.group())"
   ]
  },
  {
   "cell_type": "code",
   "execution_count": 35,
   "metadata": {},
   "outputs": [
    {
     "name": "stdout",
     "output_type": "stream",
     "text": [
      "3 ...... @\n"
     ]
    }
   ],
   "source": [
    "import re \n",
    "matcher=re.finditer('\\W','a7b@k9z')\n",
    "for m in matcher:\n",
    "    print(m.start(),'......',m.group())"
   ]
  },
  {
   "cell_type": "code",
   "execution_count": 36,
   "metadata": {},
   "outputs": [
    {
     "name": "stdout",
     "output_type": "stream",
     "text": [
      "0 ...... a\n",
      "2 ...... a\n",
      "3 ...... a\n",
      "5 ...... a\n",
      "6 ...... a\n",
      "7 ...... a\n"
     ]
    }
   ],
   "source": [
    "#Quantifiers:Quantifiers can be used to specify the number of occurrences to match\n",
    "#a---->exactly one 'a'\n",
    "import re \n",
    "matcher=re.finditer('a','abaabaaab')\n",
    "for m in matcher:\n",
    "    print(m.start(),'......',m.group())"
   ]
  },
  {
   "cell_type": "code",
   "execution_count": 37,
   "metadata": {},
   "outputs": [
    {
     "name": "stdout",
     "output_type": "stream",
     "text": [
      "0 ...... a\n",
      "2 ...... aa\n",
      "5 ...... aaa\n"
     ]
    }
   ],
   "source": [
    "#a+ atliast one 'a'\n",
    "import re \n",
    "matcher=re.finditer('a+','abaabaaab')\n",
    "for m in matcher:\n",
    "    print(m.start(),'......',m.group())"
   ]
  },
  {
   "cell_type": "code",
   "execution_count": 38,
   "metadata": {},
   "outputs": [
    {
     "name": "stdout",
     "output_type": "stream",
     "text": [
      "0 ...... a\n",
      "1 ...... \n",
      "2 ...... aa\n",
      "4 ...... \n",
      "5 ...... aaa\n",
      "8 ...... \n",
      "9 ...... \n"
     ]
    }
   ],
   "source": [
    "# a*------->any number of a's including zero number also\n",
    "import re \n",
    "matcher=re.finditer('a*','abaabaaab')\n",
    "for m in matcher:\n",
    "    print(m.start(),'......',m.group())"
   ]
  },
  {
   "cell_type": "code",
   "execution_count": 39,
   "metadata": {},
   "outputs": [
    {
     "name": "stdout",
     "output_type": "stream",
     "text": [
      "0 ...... a\n",
      "1 ...... \n",
      "2 ...... a\n",
      "3 ...... a\n",
      "4 ...... \n",
      "5 ...... a\n",
      "6 ...... a\n",
      "7 ...... a\n",
      "8 ...... \n",
      "9 ...... \n"
     ]
    }
   ],
   "source": [
    "#a?----->atmost one a either one a or zero number of a's\n",
    "import re \n",
    "matcher=re.finditer('a?','abaabaaab')\n",
    "for m in matcher:\n",
    "    print(m.start(),'......',m.group())"
   ]
  },
  {
   "cell_type": "code",
   "execution_count": 40,
   "metadata": {},
   "outputs": [
    {
     "name": "stdout",
     "output_type": "stream",
     "text": [
      "5 ...... aaa\n"
     ]
    }
   ],
   "source": [
    "#a{n}----->Exactly n number of a's\n",
    "import re \n",
    "matcher=re.finditer('a{3}','abaabaaab')\n",
    "for m in matcher:\n",
    "    print(m.start(),'......',m.group())"
   ]
  },
  {
   "cell_type": "code",
   "execution_count": 41,
   "metadata": {},
   "outputs": [
    {
     "name": "stdout",
     "output_type": "stream",
     "text": [
      "2 ...... aa\n",
      "5 ...... aaa\n"
     ]
    }
   ],
   "source": [
    "#a{m,n}----->minimum m number of a's and maximum n number of a:\n",
    "import re \n",
    "matcher=re.finditer('a{2,3}','abaabaaab')\n",
    "for m in matcher:\n",
    "    print(m.start(),'......',m.group())"
   ]
  },
  {
   "cell_type": "code",
   "execution_count": 43,
   "metadata": {},
   "outputs": [
    {
     "name": "stdout",
     "output_type": "stream",
     "text": [
      "0 ...... a\n",
      "2 ...... aa\n",
      "5 ...... aaa\n"
     ]
    }
   ],
   "source": [
    "#a{2}a*\n",
    "import re \n",
    "matcher=re.finditer('a{1}a*','abaabaaab')\n",
    "for m in matcher:\n",
    "    print(m.start(),'......',m.group())"
   ]
  },
  {
   "cell_type": "code",
   "execution_count": 44,
   "metadata": {},
   "outputs": [
    {
     "name": "stdout",
     "output_type": "stream",
     "text": [
      "0 ...... a\n"
     ]
    }
   ],
   "source": [
    "#^a :it will chack whether the given target string start with a or not \n",
    "import re \n",
    "matcher=re.finditer('^a','abaabaaab')\n",
    "for m in matcher:\n",
    "    print(m.start(),'......',m.group())"
   ]
  },
  {
   "cell_type": "code",
   "execution_count": 47,
   "metadata": {},
   "outputs": [
    {
     "name": "stdout",
     "output_type": "stream",
     "text": [
      "8 ...... b\n"
     ]
    }
   ],
   "source": [
    "#a$---->will cahck whether the target string ends with a or not\n",
    "import re \n",
    "matcher=re.finditer('b$','abaabaaab')\n",
    "for m in matcher:\n",
    "    print(m.start(),'......',m.group())"
   ]
  },
  {
   "cell_type": "code",
   "execution_count": 48,
   "metadata": {},
   "outputs": [],
   "source": [
    "# important funcations of re module:\n",
    "# 1 match()\n",
    "# 2.fullmatch()\n",
    "# 3.search()\n",
    "# 4.findall()\n",
    "#5.finditer()\n",
    "# 6.sub()\n",
    "#7.subn()\n",
    "#8.split()\n",
    "#9.compile()"
   ]
  },
  {
   "cell_type": "code",
   "execution_count": 51,
   "metadata": {},
   "outputs": [
    {
     "name": "stdout",
     "output_type": "stream",
     "text": [
      "enter pattern to chack:abcd\n",
      "Match is avsilble at the begining of the string\n",
      "start Index:0and End Index:4\n"
     ]
    }
   ],
   "source": [
    "# 1.match(): to chack the given pattern at begninning of the target string \n",
    "# if the returns match object otherwise None\n",
    "import re\n",
    "s=input(\"enter pattern to chack:\")\n",
    "m=re.match(s,'abcd')\n",
    "if m!=None:\n",
    "    print('Match is avsilble at the begining of the string')\n",
    "    print('start Index:{}and End Index:{}'.format(m.start(),m.end()))\n",
    "else:\n",
    "    print('Match is Not avsilble at the begining of the string')\n"
   ]
  },
  {
   "cell_type": "code",
   "execution_count": 53,
   "metadata": {},
   "outputs": [
    {
     "name": "stdout",
     "output_type": "stream",
     "text": [
      "enter pattern to chack:abcedefgh\n",
      "full string not matched\n"
     ]
    }
   ],
   "source": [
    "#2.fullmatch():complite string is matched \n",
    "import re\n",
    "s=input(\"enter pattern to chack:\")\n",
    "m=re.fullmatch(s,'abcdefgh')\n",
    "if m!=None:\n",
    "    print('Full string matched')\n",
    "    \n",
    "else:\n",
    "    print('full string not matched')\n"
   ]
  },
  {
   "cell_type": "code",
   "execution_count": 57,
   "metadata": {},
   "outputs": [
    {
     "name": "stdout",
     "output_type": "stream",
     "text": [
      "enter pattern to chack:aa\n",
      "Match is available\n",
      "start Index:2and End Index:4\n"
     ]
    }
   ],
   "source": [
    "#3.search():Match object of the frist occurrence \n",
    "import re\n",
    "s=input(\"enter pattern to chack:\")\n",
    "m=re.search(s,'abaabaaab')\n",
    "if m!=None:\n",
    "    print('Match is available')\n",
    "    print('start Index:{}and End Index:{}'.format(m.start(),m.end()))\n",
    "    \n",
    "else:\n",
    "    print('match is not available')\n"
   ]
  },
  {
   "cell_type": "code",
   "execution_count": 6,
   "metadata": {},
   "outputs": [
    {
     "name": "stdout",
     "output_type": "stream",
     "text": [
      "['@', ' ', '#']\n"
     ]
    }
   ],
   "source": [
    "#4.findall():\n",
    "import re\n",
    "l=re.findall('\\W','a7@ #b9k6z')\n",
    "print(l)"
   ]
  },
  {
   "cell_type": "code",
   "execution_count": 59,
   "metadata": {},
   "outputs": [
    {
     "name": "stdout",
     "output_type": "stream",
     "text": [
      "1 2\n",
      "4 5\n",
      "6 7\n"
     ]
    }
   ],
   "source": [
    "#5.finditer():it returns iterator of matched objects.\n",
    "import re\n",
    "l=re.finditer('\\d','a7bk9z6')\n",
    "for m in l:\n",
    "    print(m.start(),m.end())"
   ]
  },
  {
   "cell_type": "code",
   "execution_count": 60,
   "metadata": {},
   "outputs": [
    {
     "name": "stdout",
     "output_type": "stream",
     "text": [
      "a#b#k#t#k\n"
     ]
    }
   ],
   "source": [
    "#6.sub():substitution or replacement\n",
    "#re.sub(regex,replacement,targetstring)\n",
    "import re\n",
    "s=re.sub('\\d','#','a7b9k5t9k')\n",
    "print(s)"
   ]
  },
  {
   "cell_type": "code",
   "execution_count": 63,
   "metadata": {},
   "outputs": [
    {
     "name": "stdout",
     "output_type": "stream",
     "text": [
      "<class 'tuple'>\n",
      "The results string: a#b#k#t#k\n",
      "the number of replacement of: 4\n"
     ]
    }
   ],
   "source": [
    "#7.subn():substitution or replacement\n",
    "#re.subn(regex,replacement,targetstring)\n",
    "#tuple:(resultstring,number of replacements)\n",
    "#t[0]\n",
    "#t[1]\n",
    "import re\n",
    "t=re.subn('\\d','#','a7b9k5t9k')\n",
    "print(type(t))\n",
    "print('The results string:',t[0])\n",
    "print('the number of replacement of:',t[1])"
   ]
  },
  {
   "cell_type": "code",
   "execution_count": 7,
   "metadata": {},
   "outputs": [
    {
     "name": "stdout",
     "output_type": "stream",
     "text": [
      "['10', '20', '30', '40', '50']\n"
     ]
    }
   ],
   "source": [
    "#split\n",
    "import re\n",
    "l=re.split('-','10-20-30-40-50')\n",
    "print(l)\n"
   ]
  },
  {
   "cell_type": "code",
   "execution_count": 9,
   "metadata": {},
   "outputs": [
    {
     "name": "stdout",
     "output_type": "stream",
     "text": [
      "www\n",
      "softwerevideos\n",
      "com\n"
     ]
    }
   ],
   "source": [
    "import re\n",
    "l=re.split('\\.','www.softwerevideos.com')\n",
    "for x in l:\n",
    "    print(x)"
   ]
  },
  {
   "cell_type": "code",
   "execution_count": 10,
   "metadata": {},
   "outputs": [
    {
     "name": "stdout",
     "output_type": "stream",
     "text": [
      "www\n",
      "softwerevideos\n",
      "com\n"
     ]
    }
   ],
   "source": [
    "import re\n",
    "l=re.split('[.]','www.softwerevideos.com')\n",
    "for x in l:\n",
    "    print(x)"
   ]
  },
  {
   "cell_type": "code",
   "execution_count": 11,
   "metadata": {},
   "outputs": [
    {
     "name": "stdout",
     "output_type": "stream",
     "text": [
      "www.softwerevideos.com\n"
     ]
    }
   ],
   "source": [
    "# we have given explestly \n",
    "import re\n",
    "l=re.split(' ','www.softwerevideos.com')\n",
    "for x in l:\n",
    "    print(x)"
   ]
  },
  {
   "cell_type": "code",
   "execution_count": 12,
   "metadata": {},
   "outputs": [
    {
     "name": "stdout",
     "output_type": "stream",
     "text": [
      "Target string starts with Gopi\n"
     ]
    }
   ],
   "source": [
    "# ^symbol: ^ and match funcation both are same doing\n",
    "import re\n",
    "s='Gopi is a good boy'\n",
    "res=re.search('^Gopi',s)\n",
    "if res!=None:\n",
    "    print('Target string starts with Gopi')\n",
    "else:\n",
    "    print('Target string Not starts with Gopi')\n"
   ]
  },
  {
   "cell_type": "code",
   "execution_count": 13,
   "metadata": {},
   "outputs": [
    {
     "name": "stdout",
     "output_type": "stream",
     "text": [
      "Target string Not starts with Hopi\n"
     ]
    }
   ],
   "source": [
    "import re\n",
    "s='Gopi is a good boy'\n",
    "res=re.search('^Hopi',s)\n",
    "if res!=None:\n",
    "    print('Target string starts with Hopi')\n",
    "else:\n",
    "    print('Target string Not starts with Hopi')"
   ]
  },
  {
   "cell_type": "code",
   "execution_count": 15,
   "metadata": {},
   "outputs": [
    {
     "name": "stdout",
     "output_type": "stream",
     "text": [
      "Target string ends with boy\n"
     ]
    }
   ],
   "source": [
    "#$ Symbol:\n",
    "import re\n",
    "s='Gopi is a good boy'\n",
    "res=re.search('boy$',s)\n",
    "if res!=None:\n",
    "    print('Target string ends with boy')\n",
    "else:\n",
    "    print('Target string Not ends with boy')"
   ]
  },
  {
   "cell_type": "code",
   "execution_count": 19,
   "metadata": {},
   "outputs": [
    {
     "name": "stdout",
     "output_type": "stream",
     "text": [
      "Target string ends with boy\n"
     ]
    }
   ],
   "source": [
    "import re\n",
    "s='Gopi is a good Boy'\n",
    "res=re.search('boy$',s,re.IGNORECASE)\n",
    "if res!=None:\n",
    "    print('Target string ends with boy')\n",
    "else:\n",
    "    print('Target string Not ends with boy')"
   ]
  },
  {
   "cell_type": "code",
   "execution_count": 20,
   "metadata": {},
   "outputs": [
    {
     "name": "stdout",
     "output_type": "stream",
     "text": [
      "Target string Not ends with boy\n"
     ]
    }
   ],
   "source": [
    "import re\n",
    "s='Ravi is a good Boy'\n",
    "res=re.search('boy$',s) # lower case character\n",
    "if res!=None:\n",
    "    print('Target string ends with boy')\n",
    "else:\n",
    "    print('Target string Not ends with boy')"
   ]
  },
  {
   "cell_type": "code",
   "execution_count": null,
   "metadata": {},
   "outputs": [],
   "source": [
    "#All my language identifuers:\n",
    "#1.the allowed character are:alphabets,digits,#\n",
    "#2.frist character should be lower case alphabet symbol from a to k\n",
    "#[a-k]\n",
    "#3.The second character should be any divisible by 3\n",
    "#[0369]\n",
    "#4.The length of identifier should be atlist 2\n",
    "#[a-zA-Z0-9#]*\n",
    "\n",
    "\n",
    "\n",
    "\n"
   ]
  },
  {
   "cell_type": "code",
   "execution_count": 4,
   "metadata": {},
   "outputs": [
    {
     "name": "stdout",
     "output_type": "stream",
     "text": [
      "enter Identifier to validate:a6tfgd\n",
      "a6tfgd is valid Yava identifier\n"
     ]
    }
   ],
   "source": [
    "import re\n",
    "s=input(\"enter Identifier to validate:\")\n",
    "m=re.fullmatch('[a-k][0369][a-zA-Z0-9#]*',s)\n",
    "if m!=None:\n",
    "    print(s,'is valid Yava identifier')\n",
    "else:\n",
    "    print(s,'is not valid Yava identifier')\n",
    "\n"
   ]
  },
  {
   "cell_type": "code",
   "execution_count": 7,
   "metadata": {},
   "outputs": [
    {
     "name": "stdout",
     "output_type": "stream",
     "text": [
      "enter Identifier to validate:a6ghgghff\n",
      "a6ghgghff is valid Yava identifier\n"
     ]
    }
   ],
   "source": [
    "import re\n",
    "s=input(\"enter Identifier to validate:\")\n",
    "m=re.fullmatch('[a-k][0369][a-zA-Z0-9#]+',s)\n",
    "if m!=None:\n",
    "    print(s,'is valid Yava identifier')\n",
    "else:\n",
    "    print(s,'is not valid Yava identifier')"
   ]
  },
  {
   "cell_type": "code",
   "execution_count": 12,
   "metadata": {},
   "outputs": [
    {
     "name": "stdout",
     "output_type": "stream",
     "text": [
      "enter a valid mobile number9898989898\n",
      "9898989898 yes it is valid\n"
     ]
    }
   ],
   "source": [
    "# mobile number chack \n",
    "import re\n",
    "s=input(\"enter a valid mobile number\")\n",
    "m=re.fullmatch('[6-9]\\d{9}',s)\n",
    "if m!=None:\n",
    "    print(s,'yes it is valid')\n",
    "else:\n",
    "    print(s,'Not valid')\n"
   ]
  },
  {
   "cell_type": "code",
   "execution_count": 15,
   "metadata": {},
   "outputs": [
    {
     "name": "stdout",
     "output_type": "stream",
     "text": [
      "enter a valid mobile number7878787889\n",
      "7878787889 yes it is valid\n"
     ]
    }
   ],
   "source": [
    "import re\n",
    "s=input(\"enter a valid mobile number\")\n",
    "m=re.fullmatch('[6-9][0-9]{9}',s)\n",
    "if m!=None:\n",
    "    print(s,'yes it is valid')\n",
    "else:\n",
    "    print(s,'Not valid')"
   ]
  },
  {
   "cell_type": "code",
   "execution_count": 21,
   "metadata": {},
   "outputs": [
    {
     "name": "stdout",
     "output_type": "stream",
     "text": [
      "Extracted all mobile numbers in to li.txt\n"
     ]
    }
   ],
   "source": [
    "# To extract all mobile numbers present in input.txt file\n",
    "import re\n",
    "f1=open('input.txt','r')\n",
    "f2=open('li.txt','w')\n",
    "for line in f1:\n",
    "    list=re.findall('[6-9]\\d{9}',line)\n",
    "    for number in list:\n",
    "        f2.write(number+\"\\n\")\n",
    "print('Extracted all mobile numbers in to li.txt')\n",
    "f1.close()\n",
    "f2.close()\n"
   ]
  },
  {
   "cell_type": "code",
   "execution_count": 5,
   "metadata": {},
   "outputs": [
    {
     "name": "stdout",
     "output_type": "stream",
     "text": [
      "Sarching.... http://google.com\n",
      "<title>Google</title>\n",
      "Sarching.... http://rediff.com\n",
      "<title>Rediff.com: News | Rediffmail | Stock Quotes | Shopping</title>\n"
     ]
    }
   ],
   "source": [
    "# Web Scraping by using Regular Expressions: \n",
    "#collcatig info in web pages\n",
    "import re,urllib\n",
    "import urllib.request\n",
    "sites=['http://google.com']\n",
    "for s in sites:\n",
    "    print('Sarching....',s)\n",
    "    u=urllib.request.urlopen(s)\n",
    "    text=u.read()\n",
    "    title=re.findall(\"<title>.*</title>\",str(text),re.IGNORECASE)\n",
    "    print(title[0])\n",
    "    \n"
   ]
  },
  {
   "cell_type": "code",
   "execution_count": 12,
   "metadata": {},
   "outputs": [],
   "source": [
    "#Web page totel contact display\n"
   ]
  },
  {
   "cell_type": "code",
   "execution_count": 1,
   "metadata": {},
   "outputs": [],
   "source": [
    "import re,urllib\n",
    "import urllib.request\n",
    "u=urllib.request.urlopen('https://www.redbus.in/info/contactus')\n",
    "text=u.read()\n",
    "numbers=re.findall('[0-9]{3}[-][0-9]{8}',str(text))\n",
    "for n in numbers:\n",
    "    print(n)"
   ]
  },
  {
   "cell_type": "code",
   "execution_count": null,
   "metadata": {},
   "outputs": [],
   "source": [
    "# mail id is vaild gamil id or not\n",
    "import re\n",
    "s=input('Enter mail id:')\n",
    "m=re.fullmatch('\\w[a-zA-Z0-9_.]*@gmail[.]com',s)\n",
    "if m!=None:\n",
    "    print(\"valid mail id\")\n",
    "else:\n",
    "    print(\"Incalid mail id\")"
   ]
  },
  {
   "cell_type": "code",
   "execution_count": 21,
   "metadata": {},
   "outputs": [
    {
     "name": "stdout",
     "output_type": "stream",
     "text": [
      "Enter mail id:gopi@appsdc.in\n",
      "valid mail id\n"
     ]
    }
   ],
   "source": [
    "import re\n",
    "s=input('Enter mail id:')\n",
    "m=re.fullmatch('\\w[a-zA-Z0-9_.]*@[a-z0-9]+[.][a-z]+',s)\n",
    "if m!=None:\n",
    "    print(\"valid mail id\")\n",
    "else:\n",
    "    print(\"Incalid mail id\")"
   ]
  },
  {
   "cell_type": "code",
   "execution_count": 25,
   "metadata": {},
   "outputs": [
    {
     "name": "stdout",
     "output_type": "stream",
     "text": [
      "Enter mail id:gopi@apssdc.in\n",
      "InValid mail id\n"
     ]
    }
   ],
   "source": [
    "import re\n",
    "s=input('Enter mail id:')\n",
    "m=re.fullmatch('\\w[a-zA-Z0-9_.]*@(gmail|rediffmail)[.][a-z]+',s)\n",
    "if m!=None:\n",
    "    print(\"valid mail id\")\n",
    "else:\n",
    "    print(\"InValid mail id\")"
   ]
  },
  {
   "cell_type": "code",
   "execution_count": 28,
   "metadata": {},
   "outputs": [
    {
     "name": "stdout",
     "output_type": "stream",
     "text": [
      "Enter Registion Number:AP07ba6678\n",
      "valid  Number\n"
     ]
    }
   ],
   "source": [
    "#Car registration number is valid AP number\n",
    "import re\n",
    "s=input('Enter Registion Number:')\n",
    "m=re.fullmatch('AP[012][0-9][a-z]{2}\\d{4}',s)\n",
    "if m!=None:\n",
    "    print(\"valid  Number\")\n",
    "else:\n",
    "    print(\"InValid Number\")"
   ]
  },
  {
   "cell_type": "code",
   "execution_count": null,
   "metadata": {},
   "outputs": [],
   "source": []
  }
 ],
 "metadata": {
  "kernelspec": {
   "display_name": "Python 3",
   "language": "python",
   "name": "python3"
  },
  "language_info": {
   "codemirror_mode": {
    "name": "ipython",
    "version": 3
   },
   "file_extension": ".py",
   "mimetype": "text/x-python",
   "name": "python",
   "nbconvert_exporter": "python",
   "pygments_lexer": "ipython3",
   "version": "3.8.3"
  }
 },
 "nbformat": 4,
 "nbformat_minor": 4
}
